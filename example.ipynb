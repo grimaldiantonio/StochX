# -*- coding: utf-8 -*-
"""
Example usage
"""

import gillresidue as Gr

#%%

# Plot uptake of a single residue

k_op = 0.000036
k_cl = 0.000289
k_ch = 0.00037

gillespie_res = Gr.simulate(k_op, k_cl, k_ch, t=24*3600, show_time=True)

Gr.plot(gillespie_res, H=True, concentrations=True)
